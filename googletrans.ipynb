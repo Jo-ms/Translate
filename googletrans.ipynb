{
  "nbformat": 4,
  "nbformat_minor": 0,
  "metadata": {
    "kernelspec": {
      "display_name": "Python 3",
      "language": "python",
      "name": "python3"
    },
    "language_info": {
      "codemirror_mode": {
        "name": "ipython",
        "version": 3
      },
      "file_extension": ".py",
      "mimetype": "text/x-python",
      "name": "python",
      "nbconvert_exporter": "python",
      "pygments_lexer": "ipython3",
      "version": "3.7.3"
    },
    "colab": {
      "name": "googletrans.ipynb",
      "version": "0.3.2",
      "provenance": [],
      "include_colab_link": true
    }
  },
  "cells": [
    {
      "cell_type": "markdown",
      "metadata": {
        "id": "view-in-github",
        "colab_type": "text"
      },
      "source": [
        "<a href=\"https://colab.research.google.com/github/Jo-ms/Translate/blob/master/googletrans.ipynb\" target=\"_parent\"><img src=\"https://colab.research.google.com/assets/colab-badge.svg\" alt=\"Open In Colab\"/></a>"
      ]
    },
    {
      "cell_type": "code",
      "metadata": {
        "id": "nWmgscTk4NN6",
        "colab_type": "code",
        "colab": {},
        "outputId": "7fc3d0d2-437b-4474-84ef-1d06f54541ad"
      },
      "source": [
        "# En-Ko translating by using Pytesseract & Google Translating \n",
        "\n",
        "import os \n",
        "import sys\n",
        "import urllib.request\n",
        "from googletrans import Translator\n",
        "from gtts import gTTS\n",
        "\n",
        "# 1 . Using Pytesseract to extract text in Original IMG   \n",
        "try:\n",
        "    from PIL import Image\n",
        "except ImportError:\n",
        "    import Image\n",
        "import pytesseract\n",
        "\n",
        "pytesseract.pytesseract.tesseract_cmd = (r'C:\\Program Files\\Tesseract-OCR\\tesseract.exe')\n",
        "print(\"======================= Original Text =======================\")\n",
        "print(pytesseract.image_to_string(Image.open(r'test1.jpg')))\n",
        "print(\"=============================================================\")\n",
        "\n",
        "\n",
        "# 2. Using Google-Translate to translate extracted text \n",
        "translator = Translator()\n",
        "text = pytesseract.image_to_string(r'test1.jpg')\n",
        "repl = text.replace('\\n', ' ')\n",
        "\n",
        "\n",
        "print(\"======================= Original Text =======================\")\n",
        "print(translator.translate(repl, src ='en', dest = 'ko').text)\n",
        "print(\"=============================================================\")\n",
        "\n",
        "#3. Using Google-TTS to speak extracted text \n",
        "test = translator.translate(repl, src='en', dest = 'ko').text\n",
        "\n",
        "tts = gTTS(text=test, lang='ko')\n",
        "tts.save(\"translating.mp3\")\n",
        "print (\"TTS 생성이 완료되었습니다.\")"
      ],
      "execution_count": 0,
      "outputs": [
        {
          "output_type": "stream",
          "text": [
            "======================= Original Text =======================\n",
            "We are accustomed to thinking of light as always going in\n",
            "straight lines. But it doesn’t. This is manifest when you view a\n",
            "mirage on a long straight highway on a hot day. The road looks\n",
            "wet way up ahead because light from the sky refracts, bending\n",
            "as it crosses the many successive layers of warm air near the\n",
            "surface of the road, until it heads back up to your eye.\n",
            "\n",
            " \n",
            "\n",
            "The French mathematician Pierre de Fermat showed\n",
            "another way to understand this phenomenon. Light travels\n",
            "faster in warmer, less dense air than it does in colder air.\n",
            "Because the warmest air is near the surface, the light takes\n",
            "less time to get to your eye if it travels down near the\n",
            "ground and then returns up to your eye than it would if it\n",
            "came directly in a straight line to your eye. Fermat\n",
            "formulated a principle, which says that, to determine the\n",
            "\n",
            "ultimate path of any light ray, you simply need to examine all\n",
            "possible paths from A to B and find the one that takes the\n",
            "least time.\n",
            "=============================================================\n",
            "======================= Original Text =======================\n",
            "우리는 빛을 항상 직선으로 생각하는 것에 익숙합니다. 그러나 그렇지 않습니다. 더운 날에 긴 똑바로있는 고속도로에서 신기루를 볼 때 이것은 분명합니다. 도로는 눈으로 돌아올 때까지 도로 표면 근처의 따뜻한 공기의 많은 연속적인 레이어를 교차하면서 구부러져서 굴절합니다. 프랑스의 수학자 Pierre de Fermat는이 현상을 이해할 수있는 또 다른 방법을 제시했습니다. 빛은 차가운 공기보다 따뜻하고 밀도가 낮은 공기에서 더 빠르게 이동합니다. 가장 따뜻한 공기가 지표면 근처에 있기 때문에 빛이 지표면을 따라 내려 가면 눈에 도달하기까지 걸리는 시간이 짧아지고 눈에 일직선으로 직접 도달하는 경우보다 눈으로 돌아옵니다. Fermat은 어떤 광선의 궁극적 인 경로를 결정하기 위해 A에서 B까지 가능한 모든 경로를 조사하고 최소 시간이 걸리는 경로를 찾아야한다는 원칙을 세웠습니다.\n",
            "=============================================================\n",
            "TTS 생성이 완료되었습니다.\n"
          ],
          "name": "stdout"
        }
      ]
    },
    {
      "cell_type": "code",
      "metadata": {
        "id": "nfvw4qAv4NN-",
        "colab_type": "code",
        "colab": {}
      },
      "source": [
        ""
      ],
      "execution_count": 0,
      "outputs": []
    }
  ]
}